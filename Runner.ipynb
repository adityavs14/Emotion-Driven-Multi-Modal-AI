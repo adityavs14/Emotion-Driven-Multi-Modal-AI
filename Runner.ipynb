{
 "cells": [
  {
   "cell_type": "code",
   "execution_count": null,
   "metadata": {},
   "outputs": [],
   "source": [
    "from AudioGen import AudioAgent\n",
    "from PromptGenerator import PromptAgent\n",
    "from TemplateGenerator import TemplateAgent\n",
    "import json"
   ]
  },
  {
   "cell_type": "code",
   "execution_count": null,
   "metadata": {},
   "outputs": [],
   "source": [
    "template_model = TemplateAgent()\n",
    "questions = template_model.query()"
   ]
  },
  {
   "cell_type": "code",
   "execution_count": null,
   "metadata": {},
   "outputs": [],
   "source": [
    "print(questions)"
   ]
  },
  {
   "cell_type": "code",
   "execution_count": null,
   "metadata": {},
   "outputs": [],
   "source": [
    "answer = \"\"\"i am feeling very frustrated and angry as one of my teammates is not doing any work in the project. Because of that the project is at a standstill and our deadline is closer than ever. I am swamped with extra work and i feel like punching a wall.\"\"\""
   ]
  },
  {
   "cell_type": "code",
   "execution_count": null,
   "metadata": {},
   "outputs": [],
   "source": [
    "state = template_model.query_emotion(answer)"
   ]
  },
  {
   "cell_type": "code",
   "execution_count": null,
   "metadata": {},
   "outputs": [],
   "source": [
    "print(state)"
   ]
  },
  {
   "cell_type": "code",
   "execution_count": null,
   "metadata": {},
   "outputs": [],
   "source": [
    "prompt_model = PromptAgent()\n",
    "prompts = prompt_model.ask(state, \"data/data_prompt/\", \"data/data_prompt/\")"
   ]
  },
  {
   "cell_type": "code",
   "execution_count": null,
   "metadata": {},
   "outputs": [],
   "source": [
    "prompts = json.loads(prompts)\n",
    "print(prompts)"
   ]
  },
  {
   "cell_type": "code",
   "execution_count": null,
   "metadata": {},
   "outputs": [],
   "source": [
    "model = AudioAgent('large')\n",
    "prompt_audio = prompts[\"prompt_audio\"]\n",
    "prompt_visual = prompts[\"prompt_visual\"]\n",
    "model.get(prompt_audio)\n",
    "with open(f\"C:\\\\TouchDesigner projects\\\\visual_prompt.txt\", \"w\", encoding=\"utf-8\") as f:\n",
    "    f.write(prompt_visual)\n"
   ]
  },
  {
   "cell_type": "code",
   "execution_count": null,
   "metadata": {},
   "outputs": [],
   "source": [
    "with open(f\"C:\\\\TouchDesigner projects\\\\visual_prompt.txt\", \"w\", encoding=\"utf-8\") as f:\n",
    "    f.write('Design a visually intense scene with a dark and moody color palette, featuring sharp contrasts and deep shadows to evoke feelings of frustration and anger. Utilize an abstract or surreal artistic style with jagged lines and chaotic patterns to mirror the turbulent emotional state. Incorporate elements like stormy skies, fragmented structures, or explosive visuals to enhance the sense of overwhelm and agitation. The atmosphere should be oppressive, energetic, and confrontational, capturing the high-arousal negative emotions experienced by the user.')"
   ]
  },
  {
   "cell_type": "code",
   "execution_count": null,
   "metadata": {},
   "outputs": [],
   "source": []
  }
 ],
 "metadata": {
  "kernelspec": {
   "display_name": "hci",
   "language": "python",
   "name": "python3"
  },
  "language_info": {
   "codemirror_mode": {
    "name": "ipython",
    "version": 3
   },
   "file_extension": ".py",
   "mimetype": "text/x-python",
   "name": "python",
   "nbconvert_exporter": "python",
   "pygments_lexer": "ipython3",
   "version": "3.10.16"
  }
 },
 "nbformat": 4,
 "nbformat_minor": 2
}
